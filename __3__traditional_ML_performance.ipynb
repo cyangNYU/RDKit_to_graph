{
 "cells": [
  {
   "cell_type": "code",
   "execution_count": 1,
   "id": "2046d12e",
   "metadata": {},
   "outputs": [],
   "source": [
    "import sys, os\n",
    "import numpy as np\n",
    "import pandas as pd\n",
    "from rdkit.Chem import AllChem, Descriptors\n",
    "import sklearn\n",
    "from sklearn.metrics import confusion_matrix, precision_score,recall_score \n",
    "from sklearn.metrics import f1_score, precision_recall_curve, roc_curve, roc_auc_score\n",
    "import matplotlib.pyplot as plt\n",
    "%matplotlib inline\n",
    "import warnings\n",
    "warnings.filterwarnings('ignore')"
   ]
  },
  {
   "cell_type": "code",
   "execution_count": 2,
   "id": "b5a71654",
   "metadata": {},
   "outputs": [
    {
     "data": {
      "text/html": [
       "<div>\n",
       "<style scoped>\n",
       "    .dataframe tbody tr th:only-of-type {\n",
       "        vertical-align: middle;\n",
       "    }\n",
       "\n",
       "    .dataframe tbody tr th {\n",
       "        vertical-align: top;\n",
       "    }\n",
       "\n",
       "    .dataframe thead th {\n",
       "        text-align: right;\n",
       "    }\n",
       "</style>\n",
       "<table border=\"1\" class=\"dataframe\">\n",
       "  <thead>\n",
       "    <tr style=\"text-align: right;\">\n",
       "      <th></th>\n",
       "      <th>y</th>\n",
       "      <th>MaxAbsEStateIndex</th>\n",
       "      <th>MaxEStateIndex</th>\n",
       "      <th>MinAbsEStateIndex</th>\n",
       "      <th>MinEStateIndex</th>\n",
       "      <th>qed</th>\n",
       "      <th>MolWt</th>\n",
       "      <th>HeavyAtomMolWt</th>\n",
       "      <th>ExactMolWt</th>\n",
       "      <th>NumValenceElectrons</th>\n",
       "      <th>...</th>\n",
       "      <th>MFP_2039</th>\n",
       "      <th>MFP_2040</th>\n",
       "      <th>MFP_2041</th>\n",
       "      <th>MFP_2042</th>\n",
       "      <th>MFP_2043</th>\n",
       "      <th>MFP_2044</th>\n",
       "      <th>MFP_2045</th>\n",
       "      <th>MFP_2046</th>\n",
       "      <th>MFP_2047</th>\n",
       "      <th>MFP_2048</th>\n",
       "    </tr>\n",
       "  </thead>\n",
       "  <tbody>\n",
       "    <tr>\n",
       "      <th>0</th>\n",
       "      <td>1</td>\n",
       "      <td>9.843954</td>\n",
       "      <td>9.843954</td>\n",
       "      <td>0.299333</td>\n",
       "      <td>-0.498733</td>\n",
       "      <td>0.837506</td>\n",
       "      <td>259.348999</td>\n",
       "      <td>238.181000</td>\n",
       "      <td>259.157227</td>\n",
       "      <td>102</td>\n",
       "      <td>...</td>\n",
       "      <td>1</td>\n",
       "      <td>0</td>\n",
       "      <td>0</td>\n",
       "      <td>0</td>\n",
       "      <td>0</td>\n",
       "      <td>0</td>\n",
       "      <td>0</td>\n",
       "      <td>0</td>\n",
       "      <td>0</td>\n",
       "      <td>0</td>\n",
       "    </tr>\n",
       "    <tr>\n",
       "      <th>1</th>\n",
       "      <td>1</td>\n",
       "      <td>11.682268</td>\n",
       "      <td>11.682268</td>\n",
       "      <td>0.134704</td>\n",
       "      <td>-0.409691</td>\n",
       "      <td>0.474821</td>\n",
       "      <td>360.325012</td>\n",
       "      <td>333.109009</td>\n",
       "      <td>359.141876</td>\n",
       "      <td>130</td>\n",
       "      <td>...</td>\n",
       "      <td>0</td>\n",
       "      <td>0</td>\n",
       "      <td>0</td>\n",
       "      <td>0</td>\n",
       "      <td>0</td>\n",
       "      <td>0</td>\n",
       "      <td>0</td>\n",
       "      <td>0</td>\n",
       "      <td>0</td>\n",
       "      <td>0</td>\n",
       "    </tr>\n",
       "  </tbody>\n",
       "</table>\n",
       "<p>2 rows × 2258 columns</p>\n",
       "</div>"
      ],
      "text/plain": [
       "   y  MaxAbsEStateIndex  MaxEStateIndex  MinAbsEStateIndex  MinEStateIndex   \n",
       "0  1           9.843954        9.843954           0.299333       -0.498733  \\\n",
       "1  1          11.682268       11.682268           0.134704       -0.409691   \n",
       "\n",
       "        qed       MolWt  HeavyAtomMolWt  ExactMolWt  NumValenceElectrons  ...   \n",
       "0  0.837506  259.348999      238.181000  259.157227                  102  ...  \\\n",
       "1  0.474821  360.325012      333.109009  359.141876                  130  ...   \n",
       "\n",
       "   MFP_2039  MFP_2040  MFP_2041  MFP_2042  MFP_2043  MFP_2044  MFP_2045   \n",
       "0         1         0         0         0         0         0         0  \\\n",
       "1         0         0         0         0         0         0         0   \n",
       "\n",
       "   MFP_2046  MFP_2047  MFP_2048  \n",
       "0         0         0         0  \n",
       "1         0         0         0  \n",
       "\n",
       "[2 rows x 2258 columns]"
      ]
     },
     "execution_count": 2,
     "metadata": {},
     "output_type": "execute_result"
    }
   ],
   "source": [
    "df = pd.read_csv('data_curation/train_set_all.csv')\n",
    "df = df[df.columns.tolist()[1:]]\n",
    "df[df.select_dtypes(np.float64).columns] = df.select_dtypes(np.float64).astype(np.float32)\n",
    "df.head(2)"
   ]
  },
  {
   "cell_type": "code",
   "execution_count": 3,
   "id": "a4ad04a0",
   "metadata": {},
   "outputs": [
    {
     "data": {
      "text/plain": [
       "([], 0)"
      ]
     },
     "execution_count": 3,
     "metadata": {},
     "output_type": "execute_result"
    }
   ],
   "source": [
    "columns = df.columns.to_numpy()\n",
    "check_features = columns[df.isin([np.inf, -np.inf, np.NaN]).any(axis=0).to_numpy()].tolist()\n",
    "check_features, len(check_features)"
   ]
  },
  {
   "cell_type": "code",
   "execution_count": 5,
   "id": "f4927597",
   "metadata": {},
   "outputs": [
    {
     "data": {
      "text/plain": [
       "1994"
      ]
     },
     "execution_count": 5,
     "metadata": {},
     "output_type": "execute_result"
    }
   ],
   "source": [
    "lowVar_features = df.std()[df.std() < 0.25].index.tolist()\n",
    "len(lowVar_features)"
   ]
  },
  {
   "cell_type": "code",
   "execution_count": 6,
   "id": "9dafcbec",
   "metadata": {},
   "outputs": [
    {
     "data": {
      "text/plain": [
       "120"
      ]
     },
     "execution_count": 6,
     "metadata": {},
     "output_type": "execute_result"
    }
   ],
   "source": [
    "#descriptors = [x[0] for x in Descriptors._descList]\n",
    "Fingerprints = ['MFP_%d'%(i+1) for i in range(2048)]\n",
    "descriptors = ['HeavyAtomMolWt','NHOHCount','NOCount','RingCount']\n",
    "features = Fingerprints + descriptors\n",
    "features = [x for x in features if x not in check_features+lowVar_features]\n",
    "len(features)"
   ]
  },
  {
   "cell_type": "code",
   "execution_count": 7,
   "id": "116eb718",
   "metadata": {},
   "outputs": [
    {
     "data": {
      "text/plain": [
       "y\n",
       "1    0.822195\n",
       "0    0.177805\n",
       "Name: count, dtype: float64"
      ]
     },
     "execution_count": 7,
     "metadata": {},
     "output_type": "execute_result"
    }
   ],
   "source": [
    "df.y.value_counts()/len(df)"
   ]
  },
  {
   "cell_type": "code",
   "execution_count": 8,
   "id": "7a8af5ba",
   "metadata": {},
   "outputs": [],
   "source": [
    "X_train = np.c_[df[features]]\n",
    "y_train = np.c_[df['y']]"
   ]
  },
  {
   "cell_type": "markdown",
   "id": "3b47697e",
   "metadata": {},
   "source": [
    "### 1. Try a Balanced RandomForestClassifier"
   ]
  },
  {
   "cell_type": "code",
   "execution_count": 9,
   "id": "5dd9de73",
   "metadata": {},
   "outputs": [],
   "source": [
    "from sklearn.ensemble import RandomForestClassifier\n",
    "from imblearn.ensemble import BalancedRandomForestClassifier\n",
    "\n",
    "#RF_model = BalancedRandomForestClassifier(n_estimators=400,oob_score=True, random_state=10)\n",
    "RF_model = BalancedRandomForestClassifier(n_estimators=400,\n",
    "                                          criterion='gini',\n",
    "                                          oob_score=True, random_state=10)\n",
    "\n",
    "RF_model.fit(X_train, y_train[:,0])\n",
    "y_train_predict = RF_model.predict(X_train)\n",
    "y_oob_predict = np.argmax(RF_model.oob_decision_function_, axis=1)"
   ]
  },
  {
   "cell_type": "code",
   "execution_count": 10,
   "id": "45aa6458",
   "metadata": {},
   "outputs": [
    {
     "data": {
      "text/plain": [
       "204"
      ]
     },
     "execution_count": 10,
     "metadata": {},
     "output_type": "execute_result"
    }
   ],
   "source": [
    "new = pd.read_csv('data_curation/test_set_all.csv')\n",
    "X_test1 = np.c_[new[features]]\n",
    "y_test1 = np.c_[new['y']]\n",
    "y_test1_predict = RF_model.predict(X_test1)\n",
    "len(new)"
   ]
  },
  {
   "cell_type": "markdown",
   "id": "e7a61628",
   "metadata": {},
   "source": [
    "confusion matrix"
   ]
  },
  {
   "cell_type": "code",
   "execution_count": 11,
   "id": "f4e90799",
   "metadata": {},
   "outputs": [
    {
     "data": {
      "text/plain": [
       "array([[ 256,   34],\n",
       "       [ 185, 1156]])"
      ]
     },
     "execution_count": 11,
     "metadata": {},
     "output_type": "execute_result"
    }
   ],
   "source": [
    "confusion_matrix(y_train, y_oob_predict)"
   ]
  },
  {
   "cell_type": "code",
   "execution_count": 12,
   "id": "399f3380",
   "metadata": {},
   "outputs": [
    {
     "data": {
      "text/plain": [
       "array([[60, 37],\n",
       "       [27, 80]])"
      ]
     },
     "execution_count": 12,
     "metadata": {},
     "output_type": "execute_result"
    }
   ],
   "source": [
    "confusion_matrix(y_test1, y_test1_predict)"
   ]
  },
  {
   "cell_type": "markdown",
   "id": "52415adf",
   "metadata": {},
   "source": [
    "precision (for BBBP prediction, TP/(TP+FP) is more important)"
   ]
  },
  {
   "cell_type": "code",
   "execution_count": 13,
   "id": "064c438e",
   "metadata": {},
   "outputs": [
    {
     "data": {
      "text/plain": [
       "0.9714285714285714"
      ]
     },
     "execution_count": 13,
     "metadata": {},
     "output_type": "execute_result"
    }
   ],
   "source": [
    "precision_score(y_train, y_oob_predict)"
   ]
  },
  {
   "cell_type": "code",
   "execution_count": 14,
   "id": "28071014",
   "metadata": {},
   "outputs": [
    {
     "data": {
      "text/plain": [
       "0.6837606837606838"
      ]
     },
     "execution_count": 14,
     "metadata": {},
     "output_type": "execute_result"
    }
   ],
   "source": [
    "precision_score(y_test1, y_test1_predict)"
   ]
  },
  {
   "cell_type": "markdown",
   "id": "0bcbffb4",
   "metadata": {},
   "source": [
    "recall (TP/(TP+FN)), also called sensitivity"
   ]
  },
  {
   "cell_type": "code",
   "execution_count": 15,
   "id": "2ef3569d",
   "metadata": {},
   "outputs": [
    {
     "data": {
      "text/plain": [
       "0.8620432513049963"
      ]
     },
     "execution_count": 15,
     "metadata": {},
     "output_type": "execute_result"
    }
   ],
   "source": [
    "recall_score(y_train, y_oob_predict)"
   ]
  },
  {
   "cell_type": "code",
   "execution_count": 16,
   "id": "f84021bd",
   "metadata": {},
   "outputs": [
    {
     "data": {
      "text/plain": [
       "0.7476635514018691"
      ]
     },
     "execution_count": 16,
     "metadata": {},
     "output_type": "execute_result"
    }
   ],
   "source": [
    "recall_score(y_test1, y_test1_predict)"
   ]
  },
  {
   "cell_type": "markdown",
   "id": "733b5742",
   "metadata": {},
   "source": [
    "### ROC curve for oob prediction"
   ]
  },
  {
   "cell_type": "code",
   "execution_count": 17,
   "id": "e99fddb9",
   "metadata": {},
   "outputs": [],
   "source": [
    "y_probas = RF_model.oob_decision_function_\n",
    "y_scores = y_probas[:, 1] \n",
    "fpr_forest, tpr_forest, thresholds_forest = roc_curve(y_train, y_scores)"
   ]
  },
  {
   "cell_type": "code",
   "execution_count": 18,
   "id": "711de8bc",
   "metadata": {},
   "outputs": [],
   "source": [
    "def plot_roc_curve(fpr, tpr, label=None):\n",
    "    plt.plot(fpr, tpr, linewidth=2, label=label)\n",
    "    plt.plot([0, 1], [0, 1], 'k--')\n",
    "    plt.axis([0, 1, 0, 1])\n",
    "    plt.xticks(fontsize=14)\n",
    "    plt.yticks(fontsize=14)\n",
    "    plt.xlabel('False Positive Rate', fontsize=16)\n",
    "    plt.ylabel('True Positive Rate', fontsize=16)"
   ]
  },
  {
   "cell_type": "code",
   "execution_count": 19,
   "id": "176bad30",
   "metadata": {},
   "outputs": [
    {
     "data": {
      "image/png": "[encoded data removed]",
      "text/plain": [
       "<Figure size 800x600 with 1 Axes>"
      ]
     },
     "metadata": {},
     "output_type": "display_data"
    }
   ],
   "source": [
    "plt.figure(figsize=(8, 6))\n",
    "plot_roc_curve(fpr_forest, tpr_forest, \"Random Forest\")\n",
    "plt.legend(loc=\"lower right\", fontsize=16)\n",
    "plt.show()"
   ]
  },
  {
   "cell_type": "code",
   "execution_count": 20,
   "id": "26f23151",
   "metadata": {},
   "outputs": [
    {
     "data": {
      "text/plain": [
       "0.937514464244388"
      ]
     },
     "execution_count": 20,
     "metadata": {},
     "output_type": "execute_result"
    }
   ],
   "source": [
    "roc_auc_score(y_train, y_scores)"
   ]
  },
  {
   "cell_type": "markdown",
   "id": "f35e3ba7",
   "metadata": {},
   "source": [
    "ROC curve for test set"
   ]
  },
  {
   "cell_type": "code",
   "execution_count": 21,
   "id": "9a140cde",
   "metadata": {},
   "outputs": [],
   "source": [
    "y_probas1 = RF_model.predict_proba(X_test1)\n",
    "y_scores1 = y_probas1[:, 1] \n",
    "fpr_forest, tpr_forest, thresholds_forest = roc_curve(y_test1, y_scores1)"
   ]
  },
  {
   "cell_type": "code",
   "execution_count": 22,
   "id": "91eb39ed",
   "metadata": {},
   "outputs": [
    {
     "data": {
      "image/png": "[encoded data removed]",
      "text/plain": [
       "<Figure size 800x600 with 1 Axes>"
      ]
     },
     "metadata": {},
     "output_type": "display_data"
    }
   ],
   "source": [
    "plt.figure(figsize=(8, 6))\n",
    "plot_roc_curve(fpr_forest, tpr_forest, \"Random Forest\")\n",
    "plt.legend(loc=\"lower right\", fontsize=16)\n",
    "plt.show()"
   ]
  },
  {
   "cell_type": "code",
   "execution_count": 23,
   "id": "563b0e22",
   "metadata": {},
   "outputs": [
    {
     "data": {
      "text/plain": [
       "0.7444840543404952"
      ]
     },
     "execution_count": 23,
     "metadata": {},
     "output_type": "execute_result"
    }
   ],
   "source": [
    "roc_auc_score(y_test1, y_scores1)"
   ]
  },
  {
   "cell_type": "code",
   "execution_count": null,
   "id": "e4afdb25",
   "metadata": {},
   "outputs": [],
   "source": []
  }
 ],
 "metadata": {
  "kernelspec": {
   "display_name": "Python 3 (ipykernel)",
   "language": "python",
   "name": "python3"
  },
  "language_info": {
   "codemirror_mode": {
    "name": "ipython",
    "version": 3
   },
   "file_extension": ".py",
   "mimetype": "text/x-python",
   "name": "python",
   "nbconvert_exporter": "python",
   "pygments_lexer": "ipython3",
   "version": "3.10.11"
  }
 },
 "nbformat": 4,
 "nbformat_minor": 5
}
