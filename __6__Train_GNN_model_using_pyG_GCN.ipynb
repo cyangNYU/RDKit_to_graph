{
 "cells": [
  {
   "cell_type": "code",
   "execution_count": 1,
   "id": "d5a75b59",
   "metadata": {},
   "outputs": [],
   "source": [
    "import sys, os\n",
    "import tqdm\n",
    "import numpy as np\n",
    "import pandas as pd\n",
    "from torch_geometric.loader import DataLoader\n",
    "from torch_geometric.nn import global_mean_pool, global_add_pool, global_max_pool\n",
    "\n",
    "from chem import *"
   ]
  },
  {
   "cell_type": "code",
   "execution_count": 2,
   "id": "8f474934",
   "metadata": {},
   "outputs": [],
   "source": [
    "batch_size = 32\n",
    "dataset_name = 'bbbp'"
   ]
  },
  {
   "cell_type": "code",
   "execution_count": 3,
   "id": "246089e9",
   "metadata": {},
   "outputs": [],
   "source": [
    "train_dataset = load_dataset('data_curation/train_set.csv')\n",
    "val_dataset = load_dataset('data_curation/val_set.csv')\n",
    "test_dataset = load_dataset('data_curation/test_set.csv')"
   ]
  },
  {
   "cell_type": "code",
   "execution_count": 4,
   "id": "330cf675",
   "metadata": {},
   "outputs": [
    {
     "data": {
      "text/plain": [
       "Data(x=[19, 25], edge_index=[2, 39], y=[1])"
      ]
     },
     "execution_count": 4,
     "metadata": {},
     "output_type": "execute_result"
    }
   ],
   "source": [
    "train_dataset[0]"
   ]
  },
  {
   "cell_type": "code",
   "execution_count": 5,
   "id": "4b52bede",
   "metadata": {},
   "outputs": [],
   "source": [
    "train_loader = DataLoader(train_dataset, batch_size=batch_size, shuffle=True)\n",
    "val_loader = DataLoader(val_dataset, batch_size=len(val_dataset))\n",
    "test_loader = DataLoader(test_dataset, batch_size=len(test_dataset))"
   ]
  },
  {
   "cell_type": "code",
   "execution_count": 6,
   "id": "1954a98b",
   "metadata": {},
   "outputs": [],
   "source": [
    "import torch\n",
    "import torch.nn.functional as F\n",
    "from torch_geometric.nn import GCNConv"
   ]
  },
  {
   "cell_type": "code",
   "execution_count": 7,
   "id": "b5b71331",
   "metadata": {},
   "outputs": [],
   "source": [
    "class GCN(torch.nn.Module):\n",
    "    def __init__(self):\n",
    "        super().__init__()\n",
    "        self.conv1 = GCNConv(25, 16)\n",
    "        self.conv2 = GCNConv(16, 8)\n",
    "        self.fc1 = torch.nn.Linear(8,2)\n",
    "\n",
    "    def forward(self, data):\n",
    "        x, edge_index = data.x, data.edge_index\n",
    "\n",
    "        x = self.conv1(x, edge_index)\n",
    "        x = F.relu(x)\n",
    "        x = F.dropout(x, training=self.training)\n",
    "        x = self.conv2(x, edge_index)\n",
    "        x = F.relu(x)\n",
    "        #x = global_mean_pool(x, data.batch)\n",
    "        #x = global_add_pool(x, data.batch)\n",
    "        x = global_max_pool(x, data.batch)\n",
    "        x = self.fc1(x)\n",
    "\n",
    "        return F.log_softmax(x, dim=1)"
   ]
  },
  {
   "cell_type": "code",
   "execution_count": 8,
   "id": "f01d4391",
   "metadata": {},
   "outputs": [],
   "source": [
    "device = torch.device('cuda' if torch.cuda.is_available() else 'cpu')\n",
    "model = GCN().to(device)\n",
    "optimizer = torch.optim.Adam(model.parameters(), lr=0.001, weight_decay=5e-4)"
   ]
  },
  {
   "cell_type": "code",
   "execution_count": 9,
   "id": "9d5cc115",
   "metadata": {},
   "outputs": [
    {
     "name": "stdout",
     "output_type": "stream",
     "text": [
      "epoch 100:  0.35530440236146577\n",
      "epoch 200:  0.33789590708249045\n",
      "epoch 300:  0.3298635480595395\n",
      "epoch 400:  0.33250348470022456\n",
      "epoch 500:  0.3174979530051031\n",
      "epoch 600:  0.3188555309335415\n",
      "epoch 700:  0.3151752635754375\n",
      "epoch 800:  0.308424481058837\n",
      "epoch 900:  0.3057986029922268\n",
      "epoch 1000:  0.30258301941073795\n",
      "epoch 1100:  0.30622929281650474\n",
      "epoch 1200:  0.30184741056016584\n",
      "epoch 1300:  0.29578286481097316\n",
      "epoch 1400:  0.3091522909833346\n",
      "epoch 1500:  0.2929949573144673\n",
      "epoch 1600:  0.3079016545592167\n",
      "epoch 1700:  0.2980544527456996\n",
      "epoch 1800:  0.30769997389312176\n",
      "epoch 1900:  0.299716082070957\n",
      "epoch 2000:  0.298374870304386\n"
     ]
    }
   ],
   "source": [
    "model.train()\n",
    "for epoch in range(2000):\n",
    "    \n",
    "    loss_all = 0\n",
    "    for data in train_loader:\n",
    "        data = data.to(device)\n",
    "        \n",
    "        optimizer.zero_grad()\n",
    "        output = model(data)\n",
    "        loss = F.nll_loss(output, data.y)\n",
    "        loss.backward()\n",
    "        optimizer.step()\n",
    "        loss_all += data.num_graphs * loss.item()\n",
    "    if (epoch+1)%100 == 0:\n",
    "        print (f\"epoch {epoch+1}: \",loss_all / len(train_dataset))"
   ]
  },
  {
   "cell_type": "code",
   "execution_count": 10,
   "id": "3ff2be4c",
   "metadata": {},
   "outputs": [
    {
     "name": "stdout",
     "output_type": "stream",
     "text": [
      "0.891477621091355\n"
     ]
    }
   ],
   "source": [
    "model.eval()\n",
    "correct = 0\n",
    "for data in train_loader:\n",
    "    data = data.to(device)\n",
    "    pred = model(data).max(dim=1)[1]\n",
    "    correct += pred.eq(data.y).sum().item()\n",
    "print (correct / len(train_dataset))"
   ]
  },
  {
   "cell_type": "code",
   "execution_count": 11,
   "id": "fdb5b26b",
   "metadata": {},
   "outputs": [
    {
     "name": "stdout",
     "output_type": "stream",
     "text": [
      "0.5686274509803921\n"
     ]
    }
   ],
   "source": [
    "model.eval()\n",
    "correct = 0\n",
    "for data in test_loader:\n",
    "    data = data.to(device)\n",
    "    pred = model(data).max(dim=1)[1]\n",
    "    correct += pred.eq(data.y).sum().item()\n",
    "print (correct / len(test_dataset))"
   ]
  },
  {
   "cell_type": "code",
   "execution_count": 12,
   "id": "eba30ffb",
   "metadata": {},
   "outputs": [
    {
     "name": "stdout",
     "output_type": "stream",
     "text": [
      "0.8970588235294118\n"
     ]
    }
   ],
   "source": [
    "model.eval()\n",
    "correct = 0\n",
    "for data in val_loader:\n",
    "    data = data.to(device)\n",
    "    pred = model(data).max(dim=1)[1]\n",
    "    correct += pred.eq(data.y).sum().item()\n",
    "print (correct / len(val_dataset))"
   ]
  },
  {
   "cell_type": "code",
   "execution_count": null,
   "id": "791bde04",
   "metadata": {},
   "outputs": [],
   "source": []
  }
 ],
 "metadata": {
  "kernelspec": {
   "display_name": "Python 3 (ipykernel)",
   "language": "python",
   "name": "python3"
  },
  "language_info": {
   "codemirror_mode": {
    "name": "ipython",
    "version": 3
   },
   "file_extension": ".py",
   "mimetype": "text/x-python",
   "name": "python",
   "nbconvert_exporter": "python",
   "pygments_lexer": "ipython3",
   "version": "3.10.11"
  }
 },
 "nbformat": 4,
 "nbformat_minor": 5
}
