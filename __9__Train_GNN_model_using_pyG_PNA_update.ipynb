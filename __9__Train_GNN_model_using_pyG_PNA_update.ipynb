{
 "cells": [
  {
   "cell_type": "code",
   "execution_count": 1,
   "id": "98afc767",
   "metadata": {},
   "outputs": [],
   "source": [
    "import sys, os\n",
    "import tqdm\n",
    "import numpy as np\n",
    "import pandas as pd\n",
    "from torch_geometric.loader import DataLoader\n",
    "from torch_geometric.nn import global_mean_pool, global_add_pool, global_max_pool\n",
    "from torch_geometric.utils import degree\n",
    "\n",
    "from chem import *"
   ]
  },
  {
   "cell_type": "code",
   "execution_count": 2,
   "id": "3a0eace1",
   "metadata": {},
   "outputs": [],
   "source": [
    "batch_size = 32\n",
    "dataset_name = 'bbbp'"
   ]
  },
  {
   "cell_type": "code",
   "execution_count": 3,
   "id": "5fb01589",
   "metadata": {},
   "outputs": [],
   "source": [
    "train_dataset = load_dataset('data_curation/train_set.csv')\n",
    "val_dataset = load_dataset('data_curation/val_set.csv')\n",
    "test_dataset = load_dataset('data_curation/test_set.csv')"
   ]
  },
  {
   "cell_type": "code",
   "execution_count": 4,
   "id": "4018bb53",
   "metadata": {},
   "outputs": [
    {
     "data": {
      "text/plain": [
       "Data(x=[19, 25], edge_index=[2, 39], y=[1])"
      ]
     },
     "execution_count": 4,
     "metadata": {},
     "output_type": "execute_result"
    }
   ],
   "source": [
    "train_dataset[0]"
   ]
  },
  {
   "cell_type": "code",
   "execution_count": 5,
   "id": "d208b11f",
   "metadata": {},
   "outputs": [],
   "source": [
    "train_loader = DataLoader(train_dataset, batch_size=batch_size, shuffle=True)\n",
    "val_loader = DataLoader(val_dataset, batch_size=len(val_dataset))\n",
    "test_loader = DataLoader(test_dataset, batch_size=len(test_dataset))"
   ]
  },
  {
   "cell_type": "code",
   "execution_count": 6,
   "id": "1c0d43a1",
   "metadata": {},
   "outputs": [],
   "source": [
    "# Compute the maximum in-degree in the training data.\n",
    "max_degree = -1\n",
    "for data in train_dataset:\n",
    "    d = degree(data.edge_index[1], num_nodes=data.num_nodes, dtype=torch.long)\n",
    "    max_degree = max(max_degree, int(d.max()))\n",
    "\n",
    "# Compute the in-degree histogram tensor\n",
    "deg = torch.zeros(max_degree + 1, dtype=torch.long)\n",
    "for data in train_dataset:\n",
    "    d = degree(data.edge_index[1], num_nodes=data.num_nodes, dtype=torch.long)\n",
    "    deg += torch.bincount(d, minlength=deg.numel())"
   ]
  },
  {
   "cell_type": "code",
   "execution_count": 7,
   "id": "7400ce1d",
   "metadata": {},
   "outputs": [],
   "source": [
    "import torch\n",
    "from torch.nn import Embedding\n",
    "import torch.nn.functional as F\n",
    "from torch_geometric.nn import PNAConv"
   ]
  },
  {
   "cell_type": "code",
   "execution_count": 8,
   "id": "9e68c72a",
   "metadata": {},
   "outputs": [],
   "source": [
    "class GNN(torch.nn.Module):\n",
    "    def __init__(self):\n",
    "        super().__init__()\n",
    "        \n",
    "        aggregators = ['mean', 'min', 'max', 'std']\n",
    "        scalers = ['identity', 'amplification', 'attenuation']\n",
    "        \n",
    "        self.conv1 = PNAConv(25, 50, aggregators=aggregators, scalers=scalers, deg=deg)\n",
    "        self.conv2 = PNAConv(50, 50, aggregators=aggregators, scalers=scalers, deg=deg)\n",
    "        self.fc1 = torch.nn.Linear(50,16)\n",
    "        self.fc2 = torch.nn.Linear(16,2)\n",
    "\n",
    "    def forward(self, data):\n",
    "        x, edge_index = data.x, data.edge_index\n",
    "        \n",
    "        x = self.conv1(x, edge_index)\n",
    "        x = F.relu(x)\n",
    "        x = F.dropout(x, training=self.training)\n",
    "        x = self.conv2(x, edge_index)\n",
    "        x = F.relu(x)\n",
    "        #x = global_mean_pool(x, data.batch)\n",
    "        x = global_add_pool(x, data.batch)\n",
    "        #x = global_max_pool(x, data.batch)\n",
    "        x = F.relu(self.fc1(x))\n",
    "        x = self.fc2(x)\n",
    "\n",
    "        return F.log_softmax(x, dim=1)"
   ]
  },
  {
   "cell_type": "code",
   "execution_count": 9,
   "id": "3ee491bf",
   "metadata": {},
   "outputs": [],
   "source": [
    "device = torch.device('cuda' if torch.cuda.is_available() else 'cpu')\n",
    "model = GNN().to(device)\n",
    "optimizer = torch.optim.Adam(model.parameters(), lr=0.001, weight_decay=5e-4)"
   ]
  },
  {
   "cell_type": "code",
   "execution_count": 10,
   "id": "1f00a6e8",
   "metadata": {},
   "outputs": [
    {
     "name": "stdout",
     "output_type": "stream",
     "text": [
      "epoch 100:  0.22332453071742173\n",
      "epoch 200:  0.18454181597066174\n",
      "epoch 300:  0.20065308170841925\n",
      "epoch 400:  0.16557663328292396\n",
      "epoch 500:  0.16263432703012343\n",
      "epoch 600:  0.1555648597515777\n",
      "epoch 700:  0.14564069212944797\n",
      "epoch 800:  0.12686451187141465\n",
      "epoch 900:  0.13398934659564662\n",
      "epoch 1000:  0.11953985004941062\n",
      "epoch 1100:  0.115348051518549\n",
      "epoch 1200:  0.10903394995183027\n",
      "epoch 1300:  0.1198790487265163\n",
      "epoch 1400:  0.11506041448625007\n",
      "epoch 1500:  0.11076088095281403\n",
      "epoch 1600:  0.1063582906413853\n",
      "epoch 1700:  0.11177230491585559\n",
      "epoch 1800:  0.11394343757231055\n",
      "epoch 1900:  0.09664029649965314\n",
      "epoch 2000:  0.10464523940739422\n"
     ]
    }
   ],
   "source": [
    "model.train()\n",
    "for epoch in range(2000):\n",
    "    \n",
    "    loss_all = 0\n",
    "    for data in train_loader:\n",
    "        data = data.to(device)\n",
    "        \n",
    "        optimizer.zero_grad()\n",
    "        output = model(data)\n",
    "        loss = F.nll_loss(output, data.y)\n",
    "        loss.backward()\n",
    "        optimizer.step()\n",
    "        loss_all += data.num_graphs * loss.item()\n",
    "    if (epoch+1)%100 == 0:\n",
    "        print (f\"epoch {epoch+1}: \",loss_all / len(train_dataset))"
   ]
  },
  {
   "cell_type": "code",
   "execution_count": 11,
   "id": "823a22b3",
   "metadata": {},
   "outputs": [
    {
     "name": "stdout",
     "output_type": "stream",
     "text": [
      "0.9619865113427345\n"
     ]
    }
   ],
   "source": [
    "model.eval()\n",
    "correct = 0\n",
    "for data in train_loader:\n",
    "    data = data.to(device)\n",
    "    pred = model(data).max(dim=1)[1]\n",
    "    correct += pred.eq(data.y).sum().item()\n",
    "print (correct / len(train_dataset))"
   ]
  },
  {
   "cell_type": "code",
   "execution_count": 12,
   "id": "91a44aa6",
   "metadata": {},
   "outputs": [
    {
     "name": "stdout",
     "output_type": "stream",
     "text": [
      "0.5784313725490197\n"
     ]
    }
   ],
   "source": [
    "model.eval()\n",
    "correct = 0\n",
    "for data in test_loader:\n",
    "    data = data.to(device)\n",
    "    pred = model(data).max(dim=1)[1]\n",
    "    correct += pred.eq(data.y).sum().item()\n",
    "print (correct / len(test_dataset))"
   ]
  },
  {
   "cell_type": "code",
   "execution_count": 13,
   "id": "ddc2047d",
   "metadata": {},
   "outputs": [
    {
     "name": "stdout",
     "output_type": "stream",
     "text": [
      "0.8970588235294118\n"
     ]
    }
   ],
   "source": [
    "model.eval()\n",
    "correct = 0\n",
    "for data in val_loader:\n",
    "    data = data.to(device)\n",
    "    pred = model(data).max(dim=1)[1]\n",
    "    correct += pred.eq(data.y).sum().item()\n",
    "print (correct / len(val_dataset))"
   ]
  },
  {
   "cell_type": "code",
   "execution_count": null,
   "id": "8675149d",
   "metadata": {},
   "outputs": [],
   "source": []
  }
 ],
 "metadata": {
  "kernelspec": {
   "display_name": "Python 3 (ipykernel)",
   "language": "python",
   "name": "python3"
  },
  "language_info": {
   "codemirror_mode": {
    "name": "ipython",
    "version": 3
   },
   "file_extension": ".py",
   "mimetype": "text/x-python",
   "name": "python",
   "nbconvert_exporter": "python",
   "pygments_lexer": "ipython3",
   "version": "3.10.11"
  }
 },
 "nbformat": 4,
 "nbformat_minor": 5
}
