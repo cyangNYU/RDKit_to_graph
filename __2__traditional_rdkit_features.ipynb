{
 "cells": [
  {
   "cell_type": "code",
   "execution_count": 1,
   "id": "5ff3f4e3",
   "metadata": {},
   "outputs": [],
   "source": [
    "import sys, os\n",
    "import numpy as np\n",
    "import pandas as pd\n",
    "import rdkit\n",
    "import random\n",
    "from rdkit import Chem\n",
    "from rdkit.Chem import PandasTools\n",
    "from rdkit.Chem import AllChem, Descriptors, SaltRemover\n",
    "from rdkit.ML.Cluster import Butina\n",
    "from rdkit.ML.Descriptors.MoleculeDescriptors import MolecularDescriptorCalculator\n",
    "import warnings\n",
    "warnings.filterwarnings('ignore')\n",
    "remover = SaltRemover.SaltRemover()"
   ]
  },
  {
   "cell_type": "markdown",
   "id": "ff9fd9fb",
   "metadata": {},
   "source": [
    "### Calculate 1D and 2D molecular descriptors"
   ]
  },
  {
   "cell_type": "code",
   "execution_count": 2,
   "id": "c727ef50",
   "metadata": {},
   "outputs": [
    {
     "data": {
      "text/plain": [
       "209"
      ]
     },
     "execution_count": 2,
     "metadata": {},
     "output_type": "execute_result"
    }
   ],
   "source": [
    "Total_descriptors = [x[0] for x in Descriptors._descList]\n",
    "len(Total_descriptors)"
   ]
  },
  {
   "cell_type": "code",
   "execution_count": 3,
   "id": "e04520fa",
   "metadata": {},
   "outputs": [],
   "source": [
    "DescCalc = MolecularDescriptorCalculator(Total_descriptors)\n",
    "\n",
    "def GetRDKitDescriptors(smile):\n",
    "# Function for the calculation of ligand descriptors\n",
    "    mol = Chem.MolFromSmiles(smile)\n",
    "    mol.UpdatePropertyCache(strict=False)\n",
    "    Chem.GetSymmSSSR(mol)\n",
    "    return DescCalc.CalcDescriptors(mol)"
   ]
  },
  {
   "cell_type": "code",
   "execution_count": 4,
   "id": "84294163",
   "metadata": {},
   "outputs": [],
   "source": [
    "def GetLarge(string):\n",
    "    '''\n",
    "    Get the longest smiles string\n",
    "    '''\n",
    "    List = string.split('.')\n",
    "    List = sorted(List, key=lambda x: len(x), reverse=True)\n",
    "    return List[0]\n",
    "\n",
    "def Check_smiles(smiles):\n",
    "    try:\n",
    "        mol = Chem.MolFromSmiles(GetLarge(smiles))\n",
    "        if mol is None:\n",
    "            return np.NaN\n",
    "        else:\n",
    "            mol = remover.StripMol(mol, dontRemoveEverything=True)\n",
    "            return GetLarge(Chem.MolToSmiles(mol))\n",
    "    except:\n",
    "        return np.NaN"
   ]
  },
  {
   "cell_type": "code",
   "execution_count": 5,
   "id": "b685cafb",
   "metadata": {},
   "outputs": [
    {
     "data": {
      "text/html": [
       "<div>\n",
       "<style scoped>\n",
       "    .dataframe tbody tr th:only-of-type {\n",
       "        vertical-align: middle;\n",
       "    }\n",
       "\n",
       "    .dataframe tbody tr th {\n",
       "        vertical-align: top;\n",
       "    }\n",
       "\n",
       "    .dataframe thead th {\n",
       "        text-align: right;\n",
       "    }\n",
       "</style>\n",
       "<table border=\"1\" class=\"dataframe\">\n",
       "  <thead>\n",
       "    <tr style=\"text-align: right;\">\n",
       "      <th></th>\n",
       "      <th>smiles</th>\n",
       "      <th>y</th>\n",
       "    </tr>\n",
       "  </thead>\n",
       "  <tbody>\n",
       "    <tr>\n",
       "      <th>0</th>\n",
       "      <td>CC(C)NCC(O)COc1cccc2ccccc12</td>\n",
       "      <td>1</td>\n",
       "    </tr>\n",
       "    <tr>\n",
       "      <th>1</th>\n",
       "      <td>CC(C)(C)OC(=O)CCCc1ccc(N(CCCl)CCCl)cc1</td>\n",
       "      <td>1</td>\n",
       "    </tr>\n",
       "    <tr>\n",
       "      <th>2</th>\n",
       "      <td>CC1COc2c(N3CCN(C)CC3)c(F)cc3c(=O)c(C(=O)O)cn1c23</td>\n",
       "      <td>1</td>\n",
       "    </tr>\n",
       "  </tbody>\n",
       "</table>\n",
       "</div>"
      ],
      "text/plain": [
       "                                             smiles  y\n",
       "0                       CC(C)NCC(O)COc1cccc2ccccc12  1\n",
       "1            CC(C)(C)OC(=O)CCCc1ccc(N(CCCl)CCCl)cc1  1\n",
       "2  CC1COc2c(N3CCN(C)CC3)c(F)cc3c(=O)c(C(=O)O)cn1c23  1"
      ]
     },
     "execution_count": 5,
     "metadata": {},
     "output_type": "execute_result"
    }
   ],
   "source": [
    "df = pd.read_csv('/home/cyanguestc/work/archive/old_examples/geo-gcn/data/molecules/bbbp_train.csv')\n",
    "df['smiles'] = df['smiles'].map(lambda x: Check_smiles(x))\n",
    "df.head(3)"
   ]
  },
  {
   "cell_type": "code",
   "execution_count": 6,
   "id": "87d8a7a4",
   "metadata": {},
   "outputs": [
    {
     "data": {
      "text/plain": [
       "1631"
      ]
     },
     "execution_count": 6,
     "metadata": {},
     "output_type": "execute_result"
    }
   ],
   "source": [
    "len(df)"
   ]
  },
  {
   "cell_type": "code",
   "execution_count": 7,
   "id": "fdaf5a30",
   "metadata": {},
   "outputs": [
    {
     "data": {
      "text/plain": [
       "1631"
      ]
     },
     "execution_count": 7,
     "metadata": {},
     "output_type": "execute_result"
    }
   ],
   "source": [
    "df = df.loc[~df['smiles'].isnull()]\n",
    "len(df)"
   ]
  },
  {
   "cell_type": "code",
   "execution_count": 8,
   "id": "3b99d70b",
   "metadata": {},
   "outputs": [],
   "source": [
    "Features = []\n",
    "\n",
    "for i in df.smiles.tolist():\n",
    "    Features.append(GetRDKitDescriptors(i))\n",
    "    \n",
    "ss = pd.DataFrame(Features, columns=Total_descriptors)\n",
    "df = pd.concat([df,ss], axis=1, ignore_index=False)"
   ]
  },
  {
   "cell_type": "code",
   "execution_count": 9,
   "id": "c902c7e6",
   "metadata": {},
   "outputs": [
    {
     "data": {
      "text/html": [
       "<div>\n",
       "<style scoped>\n",
       "    .dataframe tbody tr th:only-of-type {\n",
       "        vertical-align: middle;\n",
       "    }\n",
       "\n",
       "    .dataframe tbody tr th {\n",
       "        vertical-align: top;\n",
       "    }\n",
       "\n",
       "    .dataframe thead th {\n",
       "        text-align: right;\n",
       "    }\n",
       "</style>\n",
       "<table border=\"1\" class=\"dataframe\">\n",
       "  <thead>\n",
       "    <tr style=\"text-align: right;\">\n",
       "      <th></th>\n",
       "      <th>smiles</th>\n",
       "      <th>y</th>\n",
       "      <th>MaxAbsEStateIndex</th>\n",
       "      <th>MaxEStateIndex</th>\n",
       "      <th>MinAbsEStateIndex</th>\n",
       "      <th>MinEStateIndex</th>\n",
       "      <th>qed</th>\n",
       "      <th>MolWt</th>\n",
       "      <th>HeavyAtomMolWt</th>\n",
       "      <th>ExactMolWt</th>\n",
       "      <th>...</th>\n",
       "      <th>fr_sulfide</th>\n",
       "      <th>fr_sulfonamd</th>\n",
       "      <th>fr_sulfone</th>\n",
       "      <th>fr_term_acetylene</th>\n",
       "      <th>fr_tetrazole</th>\n",
       "      <th>fr_thiazole</th>\n",
       "      <th>fr_thiocyan</th>\n",
       "      <th>fr_thiophene</th>\n",
       "      <th>fr_unbrch_alkane</th>\n",
       "      <th>fr_urea</th>\n",
       "    </tr>\n",
       "  </thead>\n",
       "  <tbody>\n",
       "    <tr>\n",
       "      <th>0</th>\n",
       "      <td>CC(C)NCC(O)COc1cccc2ccccc12</td>\n",
       "      <td>1</td>\n",
       "      <td>9.843954</td>\n",
       "      <td>9.843954</td>\n",
       "      <td>0.299333</td>\n",
       "      <td>-0.498733</td>\n",
       "      <td>0.837506</td>\n",
       "      <td>259.349</td>\n",
       "      <td>238.181</td>\n",
       "      <td>259.157229</td>\n",
       "      <td>...</td>\n",
       "      <td>0</td>\n",
       "      <td>0</td>\n",
       "      <td>0</td>\n",
       "      <td>0</td>\n",
       "      <td>0</td>\n",
       "      <td>0</td>\n",
       "      <td>0</td>\n",
       "      <td>0</td>\n",
       "      <td>0</td>\n",
       "      <td>0</td>\n",
       "    </tr>\n",
       "    <tr>\n",
       "      <th>1</th>\n",
       "      <td>CC(C)(C)OC(=O)CCCc1ccc(N(CCCl)CCCl)cc1</td>\n",
       "      <td>1</td>\n",
       "      <td>11.682268</td>\n",
       "      <td>11.682268</td>\n",
       "      <td>0.134704</td>\n",
       "      <td>-0.409691</td>\n",
       "      <td>0.474821</td>\n",
       "      <td>360.325</td>\n",
       "      <td>333.109</td>\n",
       "      <td>359.141884</td>\n",
       "      <td>...</td>\n",
       "      <td>0</td>\n",
       "      <td>0</td>\n",
       "      <td>0</td>\n",
       "      <td>0</td>\n",
       "      <td>0</td>\n",
       "      <td>0</td>\n",
       "      <td>0</td>\n",
       "      <td>0</td>\n",
       "      <td>0</td>\n",
       "      <td>0</td>\n",
       "    </tr>\n",
       "  </tbody>\n",
       "</table>\n",
       "<p>2 rows × 211 columns</p>\n",
       "</div>"
      ],
      "text/plain": [
       "                                   smiles  y  MaxAbsEStateIndex   \n",
       "0             CC(C)NCC(O)COc1cccc2ccccc12  1           9.843954  \\\n",
       "1  CC(C)(C)OC(=O)CCCc1ccc(N(CCCl)CCCl)cc1  1          11.682268   \n",
       "\n",
       "   MaxEStateIndex  MinAbsEStateIndex  MinEStateIndex       qed    MolWt   \n",
       "0        9.843954           0.299333       -0.498733  0.837506  259.349  \\\n",
       "1       11.682268           0.134704       -0.409691  0.474821  360.325   \n",
       "\n",
       "   HeavyAtomMolWt  ExactMolWt  ...  fr_sulfide  fr_sulfonamd  fr_sulfone   \n",
       "0         238.181  259.157229  ...           0             0           0  \\\n",
       "1         333.109  359.141884  ...           0             0           0   \n",
       "\n",
       "   fr_term_acetylene  fr_tetrazole  fr_thiazole  fr_thiocyan  fr_thiophene   \n",
       "0                  0             0            0            0             0  \\\n",
       "1                  0             0            0            0             0   \n",
       "\n",
       "   fr_unbrch_alkane  fr_urea  \n",
       "0                 0        0  \n",
       "1                 0        0  \n",
       "\n",
       "[2 rows x 211 columns]"
      ]
     },
     "execution_count": 9,
     "metadata": {},
     "output_type": "execute_result"
    }
   ],
   "source": [
    "df.head(2)"
   ]
  },
  {
   "cell_type": "code",
   "execution_count": 10,
   "id": "ddfce82c",
   "metadata": {},
   "outputs": [],
   "source": [
    "df.to_csv('data_curation/train_set.csv', index=False)"
   ]
  },
  {
   "cell_type": "markdown",
   "id": "92051141",
   "metadata": {},
   "source": [
    "Similar for valid set."
   ]
  },
  {
   "cell_type": "code",
   "execution_count": 11,
   "id": "7d285674",
   "metadata": {},
   "outputs": [],
   "source": [
    "df = pd.read_csv('/home/cyanguestc/work/archive/old_examples/geo-gcn/data/molecules/bbbp_val.csv')\n",
    "df['smiles'] = df['smiles'].map(lambda x: Check_smiles(x))\n",
    "\n",
    "Features = []\n",
    "\n",
    "for i in df.smiles.tolist():\n",
    "    Features.append(GetRDKitDescriptors(i))\n",
    "    \n",
    "ss = pd.DataFrame(Features, columns=Total_descriptors)\n",
    "df = pd.concat([df,ss], axis=1, ignore_index=False)\n",
    "df.to_csv('data_curation/val_set.csv', index=False)"
   ]
  },
  {
   "cell_type": "markdown",
   "id": "15b5d1c8",
   "metadata": {},
   "source": [
    "Similar for test set."
   ]
  },
  {
   "cell_type": "code",
   "execution_count": 12,
   "id": "fd486afb",
   "metadata": {},
   "outputs": [],
   "source": [
    "df = pd.read_csv('/home/cyanguestc/work/archive/old_examples/geo-gcn/data/molecules/bbbp_test.csv')\n",
    "df['smiles'] = df['smiles'].map(lambda x: Check_smiles(x))\n",
    "\n",
    "Features = []\n",
    "\n",
    "for i in df.smiles.tolist():\n",
    "    Features.append(GetRDKitDescriptors(i))\n",
    "    \n",
    "ss = pd.DataFrame(Features, columns=Total_descriptors)\n",
    "df = pd.concat([df,ss], axis=1, ignore_index=False)\n",
    "df.to_csv('data_curation/test_set.csv', index=False)"
   ]
  },
  {
   "cell_type": "code",
   "execution_count": null,
   "id": "57d4d32e",
   "metadata": {},
   "outputs": [],
   "source": []
  },
  {
   "cell_type": "markdown",
   "id": "61382601",
   "metadata": {},
   "source": [
    "### Calculate_MorganFingerprint"
   ]
  },
  {
   "cell_type": "code",
   "execution_count": 13,
   "id": "5bcfb74c",
   "metadata": {},
   "outputs": [
    {
     "data": {
      "text/html": [
       "<div>\n",
       "<style scoped>\n",
       "    .dataframe tbody tr th:only-of-type {\n",
       "        vertical-align: middle;\n",
       "    }\n",
       "\n",
       "    .dataframe tbody tr th {\n",
       "        vertical-align: top;\n",
       "    }\n",
       "\n",
       "    .dataframe thead th {\n",
       "        text-align: right;\n",
       "    }\n",
       "</style>\n",
       "<table border=\"1\" class=\"dataframe\">\n",
       "  <thead>\n",
       "    <tr style=\"text-align: right;\">\n",
       "      <th></th>\n",
       "      <th>smiles</th>\n",
       "      <th>y</th>\n",
       "      <th>MaxAbsEStateIndex</th>\n",
       "      <th>MaxEStateIndex</th>\n",
       "      <th>MinAbsEStateIndex</th>\n",
       "      <th>MinEStateIndex</th>\n",
       "      <th>qed</th>\n",
       "      <th>MolWt</th>\n",
       "      <th>HeavyAtomMolWt</th>\n",
       "      <th>ExactMolWt</th>\n",
       "      <th>...</th>\n",
       "      <th>fr_sulfide</th>\n",
       "      <th>fr_sulfonamd</th>\n",
       "      <th>fr_sulfone</th>\n",
       "      <th>fr_term_acetylene</th>\n",
       "      <th>fr_tetrazole</th>\n",
       "      <th>fr_thiazole</th>\n",
       "      <th>fr_thiocyan</th>\n",
       "      <th>fr_thiophene</th>\n",
       "      <th>fr_unbrch_alkane</th>\n",
       "      <th>fr_urea</th>\n",
       "    </tr>\n",
       "  </thead>\n",
       "  <tbody>\n",
       "    <tr>\n",
       "      <th>0</th>\n",
       "      <td>CC(C)NCC(O)COc1cccc2ccccc12</td>\n",
       "      <td>1</td>\n",
       "      <td>9.843954</td>\n",
       "      <td>9.843954</td>\n",
       "      <td>0.299333</td>\n",
       "      <td>-0.498733</td>\n",
       "      <td>0.837506</td>\n",
       "      <td>259.349</td>\n",
       "      <td>238.181</td>\n",
       "      <td>259.157229</td>\n",
       "      <td>...</td>\n",
       "      <td>0</td>\n",
       "      <td>0</td>\n",
       "      <td>0</td>\n",
       "      <td>0</td>\n",
       "      <td>0</td>\n",
       "      <td>0</td>\n",
       "      <td>0</td>\n",
       "      <td>0</td>\n",
       "      <td>0</td>\n",
       "      <td>0</td>\n",
       "    </tr>\n",
       "    <tr>\n",
       "      <th>1</th>\n",
       "      <td>CC(C)(C)OC(=O)CCCc1ccc(N(CCCl)CCCl)cc1</td>\n",
       "      <td>1</td>\n",
       "      <td>11.682268</td>\n",
       "      <td>11.682268</td>\n",
       "      <td>0.134704</td>\n",
       "      <td>-0.409691</td>\n",
       "      <td>0.474821</td>\n",
       "      <td>360.325</td>\n",
       "      <td>333.109</td>\n",
       "      <td>359.141884</td>\n",
       "      <td>...</td>\n",
       "      <td>0</td>\n",
       "      <td>0</td>\n",
       "      <td>0</td>\n",
       "      <td>0</td>\n",
       "      <td>0</td>\n",
       "      <td>0</td>\n",
       "      <td>0</td>\n",
       "      <td>0</td>\n",
       "      <td>0</td>\n",
       "      <td>0</td>\n",
       "    </tr>\n",
       "  </tbody>\n",
       "</table>\n",
       "<p>2 rows × 211 columns</p>\n",
       "</div>"
      ],
      "text/plain": [
       "                                   smiles  y  MaxAbsEStateIndex   \n",
       "0             CC(C)NCC(O)COc1cccc2ccccc12  1           9.843954  \\\n",
       "1  CC(C)(C)OC(=O)CCCc1ccc(N(CCCl)CCCl)cc1  1          11.682268   \n",
       "\n",
       "   MaxEStateIndex  MinAbsEStateIndex  MinEStateIndex       qed    MolWt   \n",
       "0        9.843954           0.299333       -0.498733  0.837506  259.349  \\\n",
       "1       11.682268           0.134704       -0.409691  0.474821  360.325   \n",
       "\n",
       "   HeavyAtomMolWt  ExactMolWt  ...  fr_sulfide  fr_sulfonamd  fr_sulfone   \n",
       "0         238.181  259.157229  ...           0             0           0  \\\n",
       "1         333.109  359.141884  ...           0             0           0   \n",
       "\n",
       "   fr_term_acetylene  fr_tetrazole  fr_thiazole  fr_thiocyan  fr_thiophene   \n",
       "0                  0             0            0            0             0  \\\n",
       "1                  0             0            0            0             0   \n",
       "\n",
       "   fr_unbrch_alkane  fr_urea  \n",
       "0                 0        0  \n",
       "1                 0        0  \n",
       "\n",
       "[2 rows x 211 columns]"
      ]
     },
     "execution_count": 13,
     "metadata": {},
     "output_type": "execute_result"
    }
   ],
   "source": [
    "df = pd.read_csv('data_curation/train_set.csv')\n",
    "df.head(2)"
   ]
  },
  {
   "cell_type": "code",
   "execution_count": 14,
   "id": "0c6a98d7",
   "metadata": {},
   "outputs": [],
   "source": [
    "def Cal_fp(smile):\n",
    "    fp = AllChem.GetMorganFingerprintAsBitVect(Chem.MolFromSmiles(smile),3)\n",
    "    #fp = AllChem.GetHashedAtomPairFingerprintAsBitVect(Chem.MolFromSmiles(smile))\n",
    "    #fp = AllChem.GetHashedTopologicalTorsionFingerprintAsBitVect(Chem.MolFromSmiles(smile))\n",
    "    #fp =  AllChem.GetMACCSKeysFingerprint(Chem.MolFromSmiles(smile))\n",
    "    return list(map(int, fp.ToBitString()))\n",
    "\n",
    "columns = ['MFP_%d'%(i+1) for i in range(2048)]"
   ]
  },
  {
   "cell_type": "code",
   "execution_count": 15,
   "id": "60ef31c1",
   "metadata": {},
   "outputs": [],
   "source": [
    "Features = []\n",
    "for i in df.smiles.tolist():\n",
    "    Features.append(Cal_fp(i))\n",
    "ss = pd.DataFrame(Features, columns=columns)\n",
    "df = pd.concat([df,ss], axis=1, ignore_index=False)"
   ]
  },
  {
   "cell_type": "code",
   "execution_count": 16,
   "id": "485e4831",
   "metadata": {},
   "outputs": [
    {
     "data": {
      "text/html": [
       "<div>\n",
       "<style scoped>\n",
       "    .dataframe tbody tr th:only-of-type {\n",
       "        vertical-align: middle;\n",
       "    }\n",
       "\n",
       "    .dataframe tbody tr th {\n",
       "        vertical-align: top;\n",
       "    }\n",
       "\n",
       "    .dataframe thead th {\n",
       "        text-align: right;\n",
       "    }\n",
       "</style>\n",
       "<table border=\"1\" class=\"dataframe\">\n",
       "  <thead>\n",
       "    <tr style=\"text-align: right;\">\n",
       "      <th></th>\n",
       "      <th>smiles</th>\n",
       "      <th>y</th>\n",
       "      <th>MaxAbsEStateIndex</th>\n",
       "      <th>MaxEStateIndex</th>\n",
       "      <th>MinAbsEStateIndex</th>\n",
       "      <th>MinEStateIndex</th>\n",
       "      <th>qed</th>\n",
       "      <th>MolWt</th>\n",
       "      <th>HeavyAtomMolWt</th>\n",
       "      <th>ExactMolWt</th>\n",
       "      <th>...</th>\n",
       "      <th>MFP_2039</th>\n",
       "      <th>MFP_2040</th>\n",
       "      <th>MFP_2041</th>\n",
       "      <th>MFP_2042</th>\n",
       "      <th>MFP_2043</th>\n",
       "      <th>MFP_2044</th>\n",
       "      <th>MFP_2045</th>\n",
       "      <th>MFP_2046</th>\n",
       "      <th>MFP_2047</th>\n",
       "      <th>MFP_2048</th>\n",
       "    </tr>\n",
       "  </thead>\n",
       "  <tbody>\n",
       "    <tr>\n",
       "      <th>0</th>\n",
       "      <td>CC(C)NCC(O)COc1cccc2ccccc12</td>\n",
       "      <td>1</td>\n",
       "      <td>9.843954</td>\n",
       "      <td>9.843954</td>\n",
       "      <td>0.299333</td>\n",
       "      <td>-0.498733</td>\n",
       "      <td>0.837506</td>\n",
       "      <td>259.349</td>\n",
       "      <td>238.181</td>\n",
       "      <td>259.157229</td>\n",
       "      <td>...</td>\n",
       "      <td>1</td>\n",
       "      <td>0</td>\n",
       "      <td>0</td>\n",
       "      <td>0</td>\n",
       "      <td>0</td>\n",
       "      <td>0</td>\n",
       "      <td>0</td>\n",
       "      <td>0</td>\n",
       "      <td>0</td>\n",
       "      <td>0</td>\n",
       "    </tr>\n",
       "    <tr>\n",
       "      <th>1</th>\n",
       "      <td>CC(C)(C)OC(=O)CCCc1ccc(N(CCCl)CCCl)cc1</td>\n",
       "      <td>1</td>\n",
       "      <td>11.682268</td>\n",
       "      <td>11.682268</td>\n",
       "      <td>0.134704</td>\n",
       "      <td>-0.409691</td>\n",
       "      <td>0.474821</td>\n",
       "      <td>360.325</td>\n",
       "      <td>333.109</td>\n",
       "      <td>359.141884</td>\n",
       "      <td>...</td>\n",
       "      <td>0</td>\n",
       "      <td>0</td>\n",
       "      <td>0</td>\n",
       "      <td>0</td>\n",
       "      <td>0</td>\n",
       "      <td>0</td>\n",
       "      <td>0</td>\n",
       "      <td>0</td>\n",
       "      <td>0</td>\n",
       "      <td>0</td>\n",
       "    </tr>\n",
       "  </tbody>\n",
       "</table>\n",
       "<p>2 rows × 2259 columns</p>\n",
       "</div>"
      ],
      "text/plain": [
       "                                   smiles  y  MaxAbsEStateIndex   \n",
       "0             CC(C)NCC(O)COc1cccc2ccccc12  1           9.843954  \\\n",
       "1  CC(C)(C)OC(=O)CCCc1ccc(N(CCCl)CCCl)cc1  1          11.682268   \n",
       "\n",
       "   MaxEStateIndex  MinAbsEStateIndex  MinEStateIndex       qed    MolWt   \n",
       "0        9.843954           0.299333       -0.498733  0.837506  259.349  \\\n",
       "1       11.682268           0.134704       -0.409691  0.474821  360.325   \n",
       "\n",
       "   HeavyAtomMolWt  ExactMolWt  ...  MFP_2039  MFP_2040  MFP_2041  MFP_2042   \n",
       "0         238.181  259.157229  ...         1         0         0         0  \\\n",
       "1         333.109  359.141884  ...         0         0         0         0   \n",
       "\n",
       "   MFP_2043  MFP_2044  MFP_2045  MFP_2046  MFP_2047  MFP_2048  \n",
       "0         0         0         0         0         0         0  \n",
       "1         0         0         0         0         0         0  \n",
       "\n",
       "[2 rows x 2259 columns]"
      ]
     },
     "execution_count": 16,
     "metadata": {},
     "output_type": "execute_result"
    }
   ],
   "source": [
    "df.head(2)"
   ]
  },
  {
   "cell_type": "code",
   "execution_count": 17,
   "id": "a03c968f",
   "metadata": {},
   "outputs": [],
   "source": [
    "df.to_csv('data_curation/train_set_all.csv', index=False)"
   ]
  },
  {
   "cell_type": "markdown",
   "id": "75b1b5c8",
   "metadata": {},
   "source": [
    "Similar for valid set."
   ]
  },
  {
   "cell_type": "code",
   "execution_count": 18,
   "id": "fc041c3a",
   "metadata": {},
   "outputs": [],
   "source": [
    "df = pd.read_csv('data_curation/val_set.csv')\n",
    "\n",
    "Features = []\n",
    "for i in df.smiles.tolist():\n",
    "    Features.append(Cal_fp(i))\n",
    "ss = pd.DataFrame(Features, columns=columns)\n",
    "df = pd.concat([df,ss], axis=1, ignore_index=False)\n",
    "\n",
    "df.to_csv('data_curation/val_set_all.csv', index=False)"
   ]
  },
  {
   "cell_type": "markdown",
   "id": "6a198f44",
   "metadata": {},
   "source": [
    "Similar for test set."
   ]
  },
  {
   "cell_type": "code",
   "execution_count": 19,
   "id": "d5f85956",
   "metadata": {},
   "outputs": [],
   "source": [
    "df = pd.read_csv('data_curation/test_set.csv')\n",
    "\n",
    "Features = []\n",
    "for i in df.smiles.tolist():\n",
    "    Features.append(Cal_fp(i))\n",
    "ss = pd.DataFrame(Features, columns=columns)\n",
    "df = pd.concat([df,ss], axis=1, ignore_index=False)\n",
    "\n",
    "df.to_csv('data_curation/test_set_all.csv', index=False)"
   ]
  },
  {
   "cell_type": "code",
   "execution_count": null,
   "id": "55daa9a2",
   "metadata": {},
   "outputs": [],
   "source": []
  }
 ],
 "metadata": {
  "kernelspec": {
   "display_name": "Python 3 (ipykernel)",
   "language": "python",
   "name": "python3"
  },
  "language_info": {
   "codemirror_mode": {
    "name": "ipython",
    "version": 3
   },
   "file_extension": ".py",
   "mimetype": "text/x-python",
   "name": "python",
   "nbconvert_exporter": "python",
   "pygments_lexer": "ipython3",
   "version": "3.10.11"
  }
 },
 "nbformat": 4,
 "nbformat_minor": 5
}
