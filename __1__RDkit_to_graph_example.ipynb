{
 "cells": [
  {
   "cell_type": "code",
   "execution_count": 1,
   "id": "487a7d03",
   "metadata": {},
   "outputs": [],
   "source": [
    "import os\n",
    "import logging\n",
    "\n",
    "import numpy as np\n",
    "import pandas as pd\n",
    "import torch\n",
    "from rdkit import Chem\n",
    "from rdkit.Chem import AllChem\n",
    "from rdkit.Chem import MolFromSmiles\n",
    "from torch_geometric.data import Data"
   ]
  },
  {
   "cell_type": "code",
   "execution_count": 2,
   "id": "0e160645",
   "metadata": {},
   "outputs": [],
   "source": [
    "def one_hot_vector(val, lst):\n",
    "    \"\"\"Converts a value to a one-hot vector based on options in lst\"\"\"\n",
    "    if val not in lst:\n",
    "        val = lst[-1]\n",
    "    return map(lambda x: x == val, lst)\n",
    "\n",
    "def get_atom_features(atom):\n",
    "    attributes = []\n",
    "\n",
    "    attributes += one_hot_vector(\n",
    "        atom.GetAtomicNum(),\n",
    "        [5, 6, 7, 8, 9, 15, 16, 17, 35, 53, 999]\n",
    "    )\n",
    "\n",
    "    attributes += one_hot_vector(\n",
    "        len(atom.GetNeighbors()),\n",
    "        [0, 1, 2, 3, 4, 5]\n",
    "    )\n",
    "\n",
    "    attributes += one_hot_vector(\n",
    "        atom.GetTotalNumHs(),\n",
    "        [0, 1, 2, 3, 4]\n",
    "    )\n",
    "\n",
    "    attributes.append(atom.GetFormalCharge())\n",
    "    attributes.append(atom.IsInRing())\n",
    "    attributes.append(atom.GetIsAromatic())\n",
    "    \n",
    "    return np.array(attributes, dtype=np.float32)\n",
    "\n",
    "def feature_normalize(x_all):\n",
    "    \"\"\"Min Max Feature Scalling for Atom Feature Matrix\"\"\"\n",
    "    min_vec, max_vec = x_all[0][0].min(axis=0), x_all[0][0].max(axis=0)\n",
    "    for x in x_all:\n",
    "        min_vec = np.minimum(min_vec, x[0].min(axis=0))\n",
    "        max_vec = np.maximum(max_vec, x[0].max(axis=0))\n",
    "    diff = max_vec - min_vec\n",
    "    diff[diff == 0] = 1.\n",
    "\n",
    "    for x in x_all:\n",
    "        afm = x[0]\n",
    "        afm = (afm - min_vec) / diff\n",
    "        x[0] = afm\n",
    "\n",
    "    return x_all\n",
    "\n",
    "def featurize_mol(mol):\n",
    "    conf = mol.GetConformer()\n",
    "    node_features = np.array([get_atom_features(atom)\n",
    "                              for atom in mol.GetAtoms()])\n",
    "    adj_matrix = np.eye(mol.GetNumAtoms())\n",
    "    for bond in mol.GetBonds():\n",
    "        begin_atom = bond.GetBeginAtom().GetIdx()\n",
    "        end_atom = bond.GetEndAtom().GetIdx()\n",
    "        adj_matrix[begin_atom, end_atom] = adj_matrix[end_atom, begin_atom] = 1\n",
    "    pos_matrix = np.array([[conf.GetAtomPosition(k).x, conf.GetAtomPosition(k).y, conf.GetAtomPosition(k).z]\n",
    "                           for k in range(mol.GetNumAtoms())])\n",
    "    return node_features, adj_matrix, pos_matrix\n",
    "\n",
    "def load_data_from_smiles(x_smiles, labels, normalize_features=False):\n",
    "    x_all, y_all = [], []\n",
    "    for smiles, label in zip(x_smiles, labels):\n",
    "        try:\n",
    "            if len(smiles) < 2:\n",
    "                raise ValueError\n",
    "\n",
    "            mol = MolFromSmiles(smiles)\n",
    "\n",
    "            mol = Chem.AddHs(mol)\n",
    "            AllChem.EmbedMolecule(mol)\n",
    "            AllChem.UFFOptimizeMolecule(mol)\n",
    "            mol = Chem.RemoveHs(mol)\n",
    "\n",
    "            afm, adj, mat_positions = featurize_mol(mol)\n",
    "            x_all.append([afm, adj, mat_positions])\n",
    "            y_all.append([label])\n",
    "        except ValueError as e:\n",
    "            logging.warning('the SMILES ({}) can not be converted to a graph.\\nREASON: {}'.format(smiles, e))\n",
    "\n",
    "    if normalize_features:\n",
    "        x_all = feature_normalize(x_all)\n",
    "    return x_all, y_all\n",
    "\n",
    "def get_edge_indices(adj):\n",
    "    edges_list = []\n",
    "    for i in range(adj.shape[0]):\n",
    "        for j in range(i, adj.shape[0]):\n",
    "            if adj[i, j] == 1:\n",
    "                edges_list.append((i, j))\n",
    "    return edges_list"
   ]
  },
  {
   "cell_type": "code",
   "execution_count": 3,
   "id": "13d2a3aa",
   "metadata": {},
   "outputs": [],
   "source": [
    "smiles = ['c1ccccc1']\n",
    "labels = [1]"
   ]
  },
  {
   "cell_type": "code",
   "execution_count": 4,
   "id": "87145d7a",
   "metadata": {},
   "outputs": [],
   "source": [
    "x_all, y_all = load_data_from_smiles(smiles, labels)"
   ]
  },
  {
   "cell_type": "code",
   "execution_count": 5,
   "id": "33e2e406",
   "metadata": {},
   "outputs": [
    {
     "data": {
      "text/plain": [
       "[(0, 0),\n",
       " (0, 1),\n",
       " (0, 5),\n",
       " (1, 1),\n",
       " (1, 2),\n",
       " (2, 2),\n",
       " (2, 3),\n",
       " (3, 3),\n",
       " (3, 4),\n",
       " (4, 4),\n",
       " (4, 5),\n",
       " (5, 5)]"
      ]
     },
     "execution_count": 5,
     "metadata": {},
     "output_type": "execute_result"
    }
   ],
   "source": [
    "get_edge_indices(x_all[0][1])"
   ]
  },
  {
   "cell_type": "code",
   "execution_count": null,
   "id": "e84c9379",
   "metadata": {},
   "outputs": [],
   "source": []
  }
 ],
 "metadata": {
  "kernelspec": {
   "display_name": "Python 3 (ipykernel)",
   "language": "python",
   "name": "python3"
  },
  "language_info": {
   "codemirror_mode": {
    "name": "ipython",
    "version": 3
   },
   "file_extension": ".py",
   "mimetype": "text/x-python",
   "name": "python",
   "nbconvert_exporter": "python",
   "pygments_lexer": "ipython3",
   "version": "3.10.11"
  }
 },
 "nbformat": 4,
 "nbformat_minor": 5
}
