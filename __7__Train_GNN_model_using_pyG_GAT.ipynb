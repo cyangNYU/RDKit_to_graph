{
 "cells": [
  {
   "cell_type": "code",
   "execution_count": 1,
   "id": "43b23ad4",
   "metadata": {},
   "outputs": [],
   "source": [
    "import sys, os\n",
    "import tqdm\n",
    "import numpy as np\n",
    "import pandas as pd\n",
    "from torch_geometric.loader import DataLoader\n",
    "from torch_geometric.nn import global_mean_pool, global_add_pool, global_max_pool\n",
    "\n",
    "from chem import *"
   ]
  },
  {
   "cell_type": "code",
   "execution_count": 2,
   "id": "c9079a19",
   "metadata": {},
   "outputs": [],
   "source": [
    "batch_size = 32\n",
    "dataset_name = 'bbbp'"
   ]
  },
  {
   "cell_type": "code",
   "execution_count": 3,
   "id": "c487167e",
   "metadata": {},
   "outputs": [],
   "source": [
    "train_dataset = load_dataset('data_curation/train_set.csv')\n",
    "val_dataset = load_dataset('data_curation/val_set.csv')\n",
    "test_dataset = load_dataset('data_curation/test_set.csv')"
   ]
  },
  {
   "cell_type": "code",
   "execution_count": 4,
   "id": "5740315c",
   "metadata": {},
   "outputs": [
    {
     "data": {
      "text/plain": [
       "Data(x=[19, 25], edge_index=[2, 39], y=[1])"
      ]
     },
     "execution_count": 4,
     "metadata": {},
     "output_type": "execute_result"
    }
   ],
   "source": [
    "train_dataset[0]"
   ]
  },
  {
   "cell_type": "code",
   "execution_count": 5,
   "id": "8f0997f2",
   "metadata": {},
   "outputs": [],
   "source": [
    "train_loader = DataLoader(train_dataset, batch_size=batch_size, shuffle=True)\n",
    "val_loader = DataLoader(val_dataset, batch_size=len(val_dataset))\n",
    "test_loader = DataLoader(test_dataset, batch_size=len(test_dataset))"
   ]
  },
  {
   "cell_type": "code",
   "execution_count": 6,
   "id": "abc8fe64",
   "metadata": {},
   "outputs": [],
   "source": [
    "import torch\n",
    "import torch.nn.functional as F\n",
    "from torch_geometric.nn import GATConv"
   ]
  },
  {
   "cell_type": "code",
   "execution_count": 7,
   "id": "b9997616",
   "metadata": {},
   "outputs": [],
   "source": [
    "class GNN(torch.nn.Module):\n",
    "    def __init__(self):\n",
    "        super().__init__()\n",
    "        self.conv1 = GATConv(25, 16)\n",
    "        self.conv2 = GATConv(16, 8)\n",
    "        self.fc1 = torch.nn.Linear(8,2)\n",
    "\n",
    "    def forward(self, data):\n",
    "        x, edge_index = data.x, data.edge_index\n",
    "\n",
    "        x = self.conv1(x, edge_index)\n",
    "        x = F.relu(x)\n",
    "        x = F.dropout(x, training=self.training)\n",
    "        x = self.conv2(x, edge_index)\n",
    "        x = F.relu(x)\n",
    "        #x = global_mean_pool(x, data.batch)\n",
    "        x = global_add_pool(x, data.batch)\n",
    "        #x = global_max_pool(x, data.batch)\n",
    "        x = self.fc1(x)\n",
    "\n",
    "        return F.log_softmax(x, dim=1)"
   ]
  },
  {
   "cell_type": "code",
   "execution_count": 8,
   "id": "7b335a94",
   "metadata": {},
   "outputs": [],
   "source": [
    "device = torch.device('cuda' if torch.cuda.is_available() else 'cpu')\n",
    "model = GNN().to(device)\n",
    "optimizer = torch.optim.Adam(model.parameters(), lr=0.001, weight_decay=5e-4)"
   ]
  },
  {
   "cell_type": "code",
   "execution_count": 9,
   "id": "e490923d",
   "metadata": {},
   "outputs": [
    {
     "name": "stdout",
     "output_type": "stream",
     "text": [
      "epoch 100:  0.29366533482900653\n",
      "epoch 200:  0.2751535235519865\n",
      "epoch 300:  0.27289926106764595\n",
      "epoch 400:  0.2528318396417149\n",
      "epoch 500:  0.26844480195197495\n",
      "epoch 600:  0.2578838173594671\n",
      "epoch 700:  0.25117631225517234\n",
      "epoch 800:  0.26232494345331103\n",
      "epoch 900:  0.25511411661059485\n",
      "epoch 1000:  0.24852789171921702\n",
      "epoch 1100:  0.2548897322575641\n",
      "epoch 1200:  0.24244078767219254\n",
      "epoch 1300:  0.24094933434032648\n",
      "epoch 1400:  0.2536930391424496\n",
      "epoch 1500:  0.25929546414672927\n",
      "epoch 1600:  0.2420114583394631\n",
      "epoch 1700:  0.24420059491965318\n",
      "epoch 1800:  0.25139978230182264\n",
      "epoch 1900:  0.24738661995115344\n",
      "epoch 2000:  0.24462707766464778\n"
     ]
    }
   ],
   "source": [
    "model.train()\n",
    "for epoch in range(2000):\n",
    "    \n",
    "    loss_all = 0\n",
    "    for data in train_loader:\n",
    "        data = data.to(device)\n",
    "        \n",
    "        optimizer.zero_grad()\n",
    "        output = model(data)\n",
    "        loss = F.nll_loss(output, data.y)\n",
    "        loss.backward()\n",
    "        optimizer.step()\n",
    "        loss_all += data.num_graphs * loss.item()\n",
    "    if (epoch+1)%100 == 0:\n",
    "        print (f\"epoch {epoch+1}: \",loss_all / len(train_dataset))"
   ]
  },
  {
   "cell_type": "code",
   "execution_count": 10,
   "id": "8a09f50a",
   "metadata": {},
   "outputs": [
    {
     "name": "stdout",
     "output_type": "stream",
     "text": [
      "0.8516247700797057\n"
     ]
    }
   ],
   "source": [
    "model.eval()\n",
    "correct = 0\n",
    "for data in train_loader:\n",
    "    data = data.to(device)\n",
    "    pred = model(data).max(dim=1)[1]\n",
    "    correct += pred.eq(data.y).sum().item()\n",
    "print (correct / len(train_dataset))"
   ]
  },
  {
   "cell_type": "code",
   "execution_count": 11,
   "id": "5a23a2ec",
   "metadata": {},
   "outputs": [
    {
     "name": "stdout",
     "output_type": "stream",
     "text": [
      "0.6274509803921569\n"
     ]
    }
   ],
   "source": [
    "model.eval()\n",
    "correct = 0\n",
    "for data in test_loader:\n",
    "    data = data.to(device)\n",
    "    pred = model(data).max(dim=1)[1]\n",
    "    correct += pred.eq(data.y).sum().item()\n",
    "print (correct / len(test_dataset))"
   ]
  },
  {
   "cell_type": "code",
   "execution_count": 12,
   "id": "9b8f3c38",
   "metadata": {},
   "outputs": [
    {
     "name": "stdout",
     "output_type": "stream",
     "text": [
      "0.8725490196078431\n"
     ]
    }
   ],
   "source": [
    "model.eval()\n",
    "correct = 0\n",
    "for data in val_loader:\n",
    "    data = data.to(device)\n",
    "    pred = model(data).max(dim=1)[1]\n",
    "    correct += pred.eq(data.y).sum().item()\n",
    "print (correct / len(val_dataset))"
   ]
  },
  {
   "cell_type": "code",
   "execution_count": null,
   "id": "f1c18c03",
   "metadata": {},
   "outputs": [],
   "source": []
  },
  {
   "cell_type": "code",
   "execution_count": null,
   "id": "e8c1c051",
   "metadata": {},
   "outputs": [],
   "source": []
  }
 ],
 "metadata": {
  "kernelspec": {
   "display_name": "Python 3 (ipykernel)",
   "language": "python",
   "name": "python3"
  },
  "language_info": {
   "codemirror_mode": {
    "name": "ipython",
    "version": 3
   },
   "file_extension": ".py",
   "mimetype": "text/x-python",
   "name": "python",
   "nbconvert_exporter": "python",
   "pygments_lexer": "ipython3",
   "version": "3.10.11"
  }
 },
 "nbformat": 4,
 "nbformat_minor": 5
}
